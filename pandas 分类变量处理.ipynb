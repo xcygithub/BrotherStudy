{
 "cells": [
  {
   "cell_type": "markdown",
   "metadata": {},
   "source": [
    "将object转化为categroy可以提升处理性能，category类占用内存少\n",
    "\n",
    "category类有两个属性，categories和codes\n",
    "\n",
    "sklearn.preprocessor中的LabelEncoder可以轻松为多类别变量分类"
   ]
  },
  {
   "cell_type": "code",
   "execution_count": 4,
   "metadata": {
    "ExecuteTime": {
     "end_time": "2021-09-24T02:27:36.559701Z",
     "start_time": "2021-09-24T02:27:36.487508Z"
    }
   },
   "outputs": [
    {
     "data": {
      "text/plain": [
       "0        5-30\n",
       "1        5-30\n",
       "2         1-1\n",
       "3         1-9\n",
       "4         1-9\n",
       "         ... \n",
       "14004    5-35\n",
       "14005     2-6\n",
       "14006    1-10\n",
       "14007    6-34\n",
       "14008     2-2\n",
       "Name: label, Length: 14009, dtype: category\n",
       "Categories (35, object): ['1-1', '1-10', '1-4', '1-9', ..., '7-16', '8-18', '8-27', '9-23']"
      ]
     },
     "execution_count": 4,
     "metadata": {},
     "output_type": "execute_result"
    }
   ],
   "source": [
    "import pandas as pd\n",
    "path = 'D:data/risk/'\n",
    "train = pd.read_csv(path+'datagrand_2021_train.csv')\n",
    "train.label.astype('category')"
   ]
  },
  {
   "cell_type": "code",
   "execution_count": 5,
   "metadata": {
    "ExecuteTime": {
     "end_time": "2021-09-24T02:27:50.169194Z",
     "start_time": "2021-09-24T02:27:50.154179Z"
    }
   },
   "outputs": [
    {
     "data": {
      "text/plain": [
       "Index(['1-1', '1-10', '1-4', '1-9', '10-26', '2-11', '2-14', '2-17', '2-2',\n",
       "       '2-25', '2-3', '2-33', '2-6', '3-5', '4-7', '5-12', '5-22', '5-24',\n",
       "       '5-30', '5-35', '6-13', '6-15', '6-19', '6-20', '6-21', '6-28', '6-29',\n",
       "       '6-31', '6-32', '6-34', '6-8', '7-16', '8-18', '8-27', '9-23'],\n",
       "      dtype='object')"
      ]
     },
     "execution_count": 5,
     "metadata": {},
     "output_type": "execute_result"
    }
   ],
   "source": [
    "train.label.astype('category').cat.categories"
   ]
  },
  {
   "cell_type": "code",
   "execution_count": 6,
   "metadata": {
    "ExecuteTime": {
     "end_time": "2021-09-24T02:27:58.799310Z",
     "start_time": "2021-09-24T02:27:58.777555Z"
    }
   },
   "outputs": [
    {
     "data": {
      "text/plain": [
       "0        18\n",
       "1        18\n",
       "2         0\n",
       "3         3\n",
       "4         3\n",
       "         ..\n",
       "14004    19\n",
       "14005    12\n",
       "14006     1\n",
       "14007    29\n",
       "14008     8\n",
       "Length: 14009, dtype: int8"
      ]
     },
     "execution_count": 6,
     "metadata": {},
     "output_type": "execute_result"
    }
   ],
   "source": [
    "train.label.astype('category').cat.codes"
   ]
  },
  {
   "cell_type": "code",
   "execution_count": 7,
   "metadata": {
    "ExecuteTime": {
     "end_time": "2021-09-24T02:29:17.605205Z",
     "start_time": "2021-09-24T02:29:17.585196Z"
    }
   },
   "outputs": [
    {
     "data": {
      "text/plain": [
       "array(['1-1', '1-10', '1-4', '1-9', '10-26', '2-11', '2-14', '2-17',\n",
       "       '2-2', '2-25', '2-3', '2-33', '2-6', '3-5', '4-7', '5-12', '5-22',\n",
       "       '5-24', '5-30', '5-35', '6-13', '6-15', '6-19', '6-20', '6-21',\n",
       "       '6-28', '6-29', '6-31', '6-32', '6-34', '6-8', '7-16', '8-18',\n",
       "       '8-27', '9-23'], dtype=object)"
      ]
     },
     "execution_count": 7,
     "metadata": {},
     "output_type": "execute_result"
    }
   ],
   "source": [
    "from sklearn.preprocessing import LabelEncoder\n",
    "le = LabelEncoder()\n",
    "train['labelEnc'] = le.fit_transform(train.label)\n",
    "le.classes_"
   ]
  },
  {
   "cell_type": "code",
   "execution_count": 8,
   "metadata": {
    "ExecuteTime": {
     "end_time": "2021-09-24T02:29:34.173898Z",
     "start_time": "2021-09-24T02:29:34.162784Z"
    }
   },
   "outputs": [
    {
     "data": {
      "text/plain": [
       "array(['5-30', '5-30', '1-1', ..., '1-10', '6-34', '2-2'], dtype=object)"
      ]
     },
     "execution_count": 8,
     "metadata": {},
     "output_type": "execute_result"
    }
   ],
   "source": [
    "le.inverse_transform(train.labelEnc)"
   ]
  },
  {
   "cell_type": "markdown",
   "metadata": {},
   "source": [
    "如何选择分类变量"
   ]
  },
  {
   "cell_type": "code",
   "execution_count": 14,
   "metadata": {
    "ExecuteTime": {
     "end_time": "2021-09-24T02:35:47.276369Z",
     "start_time": "2021-09-24T02:35:47.263989Z"
    }
   },
   "outputs": [],
   "source": [
    "cate_col = [col for col in train.columns if train[col].dtype=='object']"
   ]
  },
  {
   "cell_type": "code",
   "execution_count": 15,
   "metadata": {
    "ExecuteTime": {
     "end_time": "2021-09-24T02:35:54.661533Z",
     "start_time": "2021-09-24T02:35:54.647376Z"
    }
   },
   "outputs": [
    {
     "data": {
      "text/plain": [
       "['text', 'label']"
      ]
     },
     "execution_count": 15,
     "metadata": {},
     "output_type": "execute_result"
    }
   ],
   "source": [
    "cate_col"
   ]
  },
  {
   "cell_type": "code",
   "execution_count": 18,
   "metadata": {
    "ExecuteTime": {
     "end_time": "2021-09-24T02:36:31.611905Z",
     "start_time": "2021-09-24T02:36:31.588772Z"
    }
   },
   "outputs": [
    {
     "data": {
      "text/html": [
       "<div>\n",
       "<style scoped>\n",
       "    .dataframe tbody tr th:only-of-type {\n",
       "        vertical-align: middle;\n",
       "    }\n",
       "\n",
       "    .dataframe tbody tr th {\n",
       "        vertical-align: top;\n",
       "    }\n",
       "\n",
       "    .dataframe thead th {\n",
       "        text-align: right;\n",
       "    }\n",
       "</style>\n",
       "<table border=\"1\" class=\"dataframe\">\n",
       "  <thead>\n",
       "    <tr style=\"text-align: right;\">\n",
       "      <th></th>\n",
       "      <th>text</th>\n",
       "      <th>label</th>\n",
       "    </tr>\n",
       "  </thead>\n",
       "  <tbody>\n",
       "    <tr>\n",
       "      <th>0</th>\n",
       "      <td>7442 27878 9601 235 4004 10636 19121 28648 227...</td>\n",
       "      <td>5-30</td>\n",
       "    </tr>\n",
       "    <tr>\n",
       "      <th>1</th>\n",
       "      <td>2281 24058 20163 22737 25572 1845 10446 28438 ...</td>\n",
       "      <td>5-30</td>\n",
       "    </tr>\n",
       "    <tr>\n",
       "      <th>2</th>\n",
       "      <td>12163 8224 13343 26307 18947 10922 10446 8679 ...</td>\n",
       "      <td>1-1</td>\n",
       "    </tr>\n",
       "    <tr>\n",
       "      <th>3</th>\n",
       "      <td>28685 16037 3261 14485 26363 16037 29555 8766 ...</td>\n",
       "      <td>1-9</td>\n",
       "    </tr>\n",
       "    <tr>\n",
       "      <th>4</th>\n",
       "      <td>10974 16249 8266 16328 2103 4198 929 4685 2254...</td>\n",
       "      <td>1-9</td>\n",
       "    </tr>\n",
       "    <tr>\n",
       "      <th>...</th>\n",
       "      <td>...</td>\n",
       "      <td>...</td>\n",
       "    </tr>\n",
       "    <tr>\n",
       "      <th>14004</th>\n",
       "      <td>17060 21114 4106 14131 19047 10647 9531 26694 ...</td>\n",
       "      <td>5-35</td>\n",
       "    </tr>\n",
       "    <tr>\n",
       "      <th>14005</th>\n",
       "      <td>1662 5292 11160 648 2281 29541 3328 9601 28874...</td>\n",
       "      <td>2-6</td>\n",
       "    </tr>\n",
       "    <tr>\n",
       "      <th>14006</th>\n",
       "      <td>20097 23904 18496 10893 1826 15465 16856 27380...</td>\n",
       "      <td>1-10</td>\n",
       "    </tr>\n",
       "    <tr>\n",
       "      <th>14007</th>\n",
       "      <td>15991 4685 19121 5609 104 13839 23316 1586 ， 9...</td>\n",
       "      <td>6-34</td>\n",
       "    </tr>\n",
       "    <tr>\n",
       "      <th>14008</th>\n",
       "      <td>29547 2281 929 19395 22456 17281 10449 10446 2...</td>\n",
       "      <td>2-2</td>\n",
       "    </tr>\n",
       "  </tbody>\n",
       "</table>\n",
       "<p>14009 rows × 2 columns</p>\n",
       "</div>"
      ],
      "text/plain": [
       "                                                    text label\n",
       "0      7442 27878 9601 235 4004 10636 19121 28648 227...  5-30\n",
       "1      2281 24058 20163 22737 25572 1845 10446 28438 ...  5-30\n",
       "2      12163 8224 13343 26307 18947 10922 10446 8679 ...   1-1\n",
       "3      28685 16037 3261 14485 26363 16037 29555 8766 ...   1-9\n",
       "4      10974 16249 8266 16328 2103 4198 929 4685 2254...   1-9\n",
       "...                                                  ...   ...\n",
       "14004  17060 21114 4106 14131 19047 10647 9531 26694 ...  5-35\n",
       "14005  1662 5292 11160 648 2281 29541 3328 9601 28874...   2-6\n",
       "14006  20097 23904 18496 10893 1826 15465 16856 27380...  1-10\n",
       "14007  15991 4685 19121 5609 104 13839 23316 1586 ， 9...  6-34\n",
       "14008  29547 2281 929 19395 22456 17281 10449 10446 2...   2-2\n",
       "\n",
       "[14009 rows x 2 columns]"
      ]
     },
     "execution_count": 18,
     "metadata": {},
     "output_type": "execute_result"
    }
   ],
   "source": [
    "train.select_dtypes(include='object')"
   ]
  },
  {
   "cell_type": "code",
   "execution_count": null,
   "metadata": {},
   "outputs": [],
   "source": []
  }
 ],
 "metadata": {
  "kernelspec": {
   "display_name": "Python 3",
   "language": "python",
   "name": "python3"
  },
  "language_info": {
   "codemirror_mode": {
    "name": "ipython",
    "version": 3
   },
   "file_extension": ".py",
   "mimetype": "text/x-python",
   "name": "python",
   "nbconvert_exporter": "python",
   "pygments_lexer": "ipython3",
   "version": "3.7.0"
  },
  "varInspector": {
   "cols": {
    "lenName": 16,
    "lenType": 16,
    "lenVar": 40
   },
   "kernels_config": {
    "python": {
     "delete_cmd_postfix": "",
     "delete_cmd_prefix": "del ",
     "library": "var_list.py",
     "varRefreshCmd": "print(var_dic_list())"
    },
    "r": {
     "delete_cmd_postfix": ") ",
     "delete_cmd_prefix": "rm(",
     "library": "var_list.r",
     "varRefreshCmd": "cat(var_dic_list()) "
    }
   },
   "types_to_exclude": [
    "module",
    "function",
    "builtin_function_or_method",
    "instance",
    "_Feature"
   ],
   "window_display": false
  }
 },
 "nbformat": 4,
 "nbformat_minor": 2
}
